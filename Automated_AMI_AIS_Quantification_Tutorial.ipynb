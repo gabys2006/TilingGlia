{
 "cells": [
  {
   "cell_type": "code",
   "execution_count": 18,
   "metadata": {},
   "outputs": [],
   "source": [
    "import numpy\n",
    "import wget\n",
    "import skimage\n",
    "import os\n",
    "import matplotlib as plt"
   ]
  },
  {
   "cell_type": "markdown",
   "metadata": {},
   "source": [
    "# Download Test Data\n",
    "You can find a set of 60 sample images (20 non-RNAi control, 20 driver 1 knockdown, and 20 driver 2 knockdown) hosted by the Cell Image Library at \n",
    "http://www.cellimagelibrary.org/"
   ]
  },
  {
   "cell_type": "code",
   "execution_count": 16,
   "metadata": {},
   "outputs": [
    {
     "name": "stdout",
     "output_type": "stream",
     "text": [
      "100% [....................................................] 59600000 / 59600000"
     ]
    }
   ],
   "source": [
    "url_list = ['https://cildata.crbs.ucsd.edu/media/images/37249/37249.tif',\n",
    "       'https://cildata.crbs.ucsd.edu/media/images/37250/37250.tif']\n",
    "\n",
    "#make directory for test images\n",
    "if not os.path.exists('TestImages'):\n",
    "    os.makedirs('TestImages')\n",
    "\n",
    "#download images into directory\n",
    "for img in url_list:\n",
    "    img_name = img.split('/')[-1]\n",
    "    path = os.path.join ('TestImages', img_name)\n",
    "    wget.download(img, out = path)"
   ]
  },
  {
   "cell_type": "markdown",
   "metadata": {},
   "source": [
    "# Step 1: Denoising\n",
    "Scikit-image provides many denoising algorithms in the restoration and filters modules. \n",
    "\n",
    "https://scikit-image.org/docs/stable/api/skimage.restoration.html\n",
    "\n",
    "https://scikit-image.org/docs/stable/api/skimage.filters.html"
   ]
  },
  {
   "cell_type": "markdown",
   "metadata": {},
   "source": [
    "## Unsharp Mask\n",
    "\n",
    "We found this algorithm to be the most useful for denoising our data. The function below, test_unsharp_mask, is to be used for optimizing parameters for the unsharp mask method. It takes 3 values for each the radius and amount parameters to produce 9 possible parameter sets, applies the unsharp mask with each parameter set to each test image, and produces a figure showing the 9 denoised images for each test image. We found it necessary to optimize a single channel at a time, which needs to be indicated in the test_unsharp_mask function by the channel parameter. The results are saved in a results folder named by the user. "
   ]
  },
  {
   "cell_type": "code",
   "execution_count": 17,
   "metadata": {},
   "outputs": [
    {
     "ename": "SyntaxError",
     "evalue": "invalid syntax (1614368333.py, line 3)",
     "output_type": "error",
     "traceback": [
      "\u001b[0;36m  File \u001b[0;32m\"/var/folders/fz/vq3n2sj5219brn2stdqcw09c0000gn/T/ipykernel_70374/1614368333.py\"\u001b[0;36m, line \u001b[0;32m3\u001b[0m\n\u001b[0;31m    def test_unsharp_mask:\u001b[0m\n\u001b[0m                         ^\u001b[0m\n\u001b[0;31mSyntaxError\u001b[0m\u001b[0;31m:\u001b[0m invalid syntax\n"
     ]
    }
   ],
   "source": [
    "dirName='TestImages'\n",
    "\n",
    "def test_unsharp_mask(dirName, channel, radii, amts, results):\n",
    "    '''For optimizing parameters for the radius and amount parameters. \n",
    "    Tests 3  values for the radius and amount paramaters of the unsharp mask algorithm. \n",
    "    For each test image, produces a figure showing results using all parameter sets. \n",
    "    Figures are stored in results folder'''\n",
    "    #for each image\n",
    "    for root, directory, file in os.walk(dirName):\n",
    "        for f in file:\n",
    "            ipath=os.path.join(root, f)\n",
    "            #load image with skimage\n",
    "            fullimg=skimage.io.imread(ipath, plugin=\"tifffile\")\n",
    "            #select single channel\n",
    "            original=fullimg[:, :, channel]\n",
    "            original = img_as_float(original)\n",
    "            image = np.copy(original)\n",
    "            #create 3X3 figure\n",
    "            fig, axes = plt.subplots(nrows=4, ncols=3,\n",
    "            sharex=True, sharey=True, figsize=(10, 13), constrained_layout=True)\n",
    "            ax = axes.ravel()\n",
    "            #create list of all parameter sets\n",
    "            parameter_sets = []\n",
    "            for r in radii:\n",
    "                for a in amts:\n",
    "                    par_s = (r, a)\n",
    "                    parameter_sets.append(pars)\n",
    "            #iterate thru parameter sets\n",
    "            for par_s, a in zip(parameter_sets, ax):\n",
    "                #run unsharp mask\n",
    "                res = unsharp_mask(image, radius=par_s[0], amount=par_s[1])\n",
    "                \n",
    "            \n",
    "            \n",
    "                    \n",
    "            for a in ax:\n",
    "            a.axis('off')\n",
    "\n",
    "    \n",
    "\n"
   ]
  },
  {
   "cell_type": "code",
   "execution_count": 10,
   "metadata": {
    "scrolled": true
   },
   "outputs": [
    {
     "name": "stdout",
     "output_type": "stream",
     "text": [
      "40657.tif\n"
     ]
    }
   ],
   "source": [
    "for root, directory, file in os.walk(dirName):\n",
    "    for f in file:\n",
    "        ipath=os.path.join(root, f)\n",
    "        fullimg=skimage.io.imread(ipath, plugin=\"tifffile\")\n",
    "        original=fullimg[:, :, 0]\n",
    "        original = img_as_float(original)\n",
    "        \n",
    "        image = np.copy(original)\n",
    "\n",
    "        result_1 = unsharp_mask(image, radius=1, amount=1)\n",
    "        result_2 = unsharp_mask(image, radius=1, amount=2)\n",
    "        result_3 = unsharp_mask(image, radius=1, amount=3)\n",
    "        result_4 = unsharp_mask(image, radius=5, amount=1)\n",
    "        result_5 = unsharp_mask(image, radius=5, amount=2)\n",
    "        result_6 = unsharp_mask(image, radius=5, amount=3)\n",
    "        result_7 = unsharp_mask(image, radius=20, amount=1)\n",
    "        result_8 = unsharp_mask(image, radius=20, amount=2)\n",
    "        result_9 = unsharp_mask(image, radius=20, amount=3)\n",
    "\n",
    "        fig, axes = plt.subplots(nrows=4, ncols=3,\n",
    "        sharex=True, sharey=True, figsize=(10, 13), constrained_layout=True)\n",
    "        \n",
    "        ax = axes.ravel()\n",
    "        \n",
    "        ax[0].imshow(image, cmap=plt.cm.gray)\n",
    "        ax[0].set_title('Original image: ' + f)\n",
    "        \n",
    "        ax[1].remove()\n",
    "        ax[2].remove()\n",
    "\n",
    "        ax[3].imshow(result_1, cmap=plt.cm.gray)\n",
    "        ax[3].set_title('Enhanced, radius=1, amount=1.0')\n",
    "        ax[3].axis('off')\n",
    "\n",
    "        ax[4].imshow(result_2, cmap=plt.cm.gray)\n",
    "        ax[4].set_title('Enhanced, radius=1, amount=2.0')\n",
    "        ax[5].imshow(result_3, cmap=plt.cm.gray)\n",
    "        ax[5].set_title('Enhanced, radius=1, amount=3.0')\n",
    "        \n",
    "        ax[6].imshow(result_4, cmap=plt.cm.gray)\n",
    "        ax[6].set_title('Enhanced, radius=5, amount=1.0')\n",
    "        ax[7].imshow(result_5, cmap=plt.cm.gray)\n",
    "        ax[7].set_title('Enhanced, radius=5, amount=2.0')\n",
    "        ax[8].imshow(result_6, cmap=plt.cm.gray)\n",
    "        ax[8].set_title('Enhanced, radius=5, amount=3.0')\n",
    "        \n",
    "        ax[9].imshow(result_7, cmap=plt.cm.gray)\n",
    "        ax[9].set_title('Enhanced, radius=20, amount=1.0')\n",
    "        ax[10].imshow(result_8, cmap=plt.cm.gray)\n",
    "        ax[10].set_title('Enhanced, radius=20, amount=2.0')\n",
    "        ax[11].imshow(result_9, cmap=plt.cm.gray)\n",
    "        ax[11].set_title('Enhanced, radius=20, amount=3.0')\n",
    "        \n",
    "        for a in ax:\n",
    "            a.axis('off')\n",
    "            \n",
    "        plt.show()"
   ]
  }
 ],
 "metadata": {
  "kernelspec": {
   "display_name": "Tiling",
   "language": "python",
   "name": "tiling"
  },
  "language_info": {
   "codemirror_mode": {
    "name": "ipython",
    "version": 3
   },
   "file_extension": ".py",
   "mimetype": "text/x-python",
   "name": "python",
   "nbconvert_exporter": "python",
   "pygments_lexer": "ipython3",
   "version": "3.9.7"
  }
 },
 "nbformat": 4,
 "nbformat_minor": 4
}
